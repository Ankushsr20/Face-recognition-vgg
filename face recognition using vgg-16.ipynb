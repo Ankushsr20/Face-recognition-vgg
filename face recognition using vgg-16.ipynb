{
 "cells": [
  {
   "cell_type": "code",
   "execution_count": 1,
   "metadata": {},
   "outputs": [
    {
     "name": "stderr",
     "output_type": "stream",
     "text": [
      "Using TensorFlow backend.\n"
     ]
    }
   ],
   "source": [
    "from keras.applications import vgg16"
   ]
  },
  {
   "cell_type": "code",
   "execution_count": 2,
   "metadata": {},
   "outputs": [],
   "source": [
    "from keras.layers import Dense, MaxPooling2D, Flatten"
   ]
  },
  {
   "cell_type": "code",
   "execution_count": 3,
   "metadata": {},
   "outputs": [
    {
     "name": "stdout",
     "output_type": "stream",
     "text": [
      "0 InputLayer False\n",
      "1 Conv2D False\n",
      "2 Conv2D False\n",
      "3 MaxPooling2D False\n",
      "4 Conv2D False\n",
      "5 Conv2D False\n",
      "6 MaxPooling2D False\n",
      "7 Conv2D False\n",
      "8 Conv2D False\n",
      "9 Conv2D False\n",
      "10 MaxPooling2D False\n",
      "11 Conv2D False\n",
      "12 Conv2D False\n",
      "13 Conv2D False\n",
      "14 MaxPooling2D False\n",
      "15 Conv2D False\n",
      "16 Conv2D False\n",
      "17 Conv2D False\n",
      "18 MaxPooling2D False\n"
     ]
    }
   ],
   "source": [
    "#VGG-16 needs 224 x 224 pixels as input\n",
    "img_rows, img_cols = 224, 224\n",
    "\n",
    "#Reloading VGG-16 model without the top or FC layer\n",
    "model = vgg16.VGG16(weights='C:/Users/KIIT/Desktop/murgi/vgg.h5',\n",
    "                    include_top = False,\n",
    "                   input_shape = (img_rows, img_cols,3))\n",
    "\n",
    "\n",
    "#Freeze all layers\n",
    "for layer in model.layers:\n",
    "    layer.trainable = False\n",
    "\n",
    "#lets print our layers\n",
    "for (i, layer) in enumerate(model.layers):\n",
    "    print(str(i) + \" \" + layer.__class__.__name__, layer.trainable)"
   ]
  },
  {
   "cell_type": "code",
   "execution_count": 4,
   "metadata": {},
   "outputs": [],
   "source": [
    "def VGGFC(bottom_model, num_class):\n",
    "    '''\n",
    "    creates the top or head of the model which \n",
    "    will be placed on top of the bottom layers\n",
    "    '''\n",
    "    \n",
    "    top_model = bottom_model.output\n",
    "    top_model = Flatten(name= 'flatten')(top_model)\n",
    "    top_model = Dense(units= 4096, activation= 'relu')(top_model)\n",
    "    top_model = Dense(units=4096, activation='relu')(top_model)\n",
    "    top_model = Dense(units= 1024, activation= 'relu')(top_model)\n",
    "    top_model = Dense(units= num_class, activation='sigmoid')(top_model)\n",
    "    return top_model\n"
   ]
  },
  {
   "cell_type": "code",
   "execution_count": 5,
   "metadata": {},
   "outputs": [],
   "source": [
    "from keras.models import Model"
   ]
  },
  {
   "cell_type": "code",
   "execution_count": 6,
   "metadata": {},
   "outputs": [],
   "source": [
    "num_class = 2"
   ]
  },
  {
   "cell_type": "code",
   "execution_count": 7,
   "metadata": {},
   "outputs": [],
   "source": [
    "FC_head = VGGFC(model, num_class= num_class)"
   ]
  },
  {
   "cell_type": "code",
   "execution_count": 8,
   "metadata": {},
   "outputs": [],
   "source": [
    "newmodel = Model(inputs= model.input, outputs= FC_head)"
   ]
  },
  {
   "cell_type": "code",
   "execution_count": 9,
   "metadata": {},
   "outputs": [
    {
     "name": "stdout",
     "output_type": "stream",
     "text": [
      "Model: \"model_1\"\n",
      "_________________________________________________________________\n",
      "Layer (type)                 Output Shape              Param #   \n",
      "=================================================================\n",
      "input_1 (InputLayer)         (None, 224, 224, 3)       0         \n",
      "_________________________________________________________________\n",
      "block1_conv1 (Conv2D)        (None, 224, 224, 64)      1792      \n",
      "_________________________________________________________________\n",
      "block1_conv2 (Conv2D)        (None, 224, 224, 64)      36928     \n",
      "_________________________________________________________________\n",
      "block1_pool (MaxPooling2D)   (None, 112, 112, 64)      0         \n",
      "_________________________________________________________________\n",
      "block2_conv1 (Conv2D)        (None, 112, 112, 128)     73856     \n",
      "_________________________________________________________________\n",
      "block2_conv2 (Conv2D)        (None, 112, 112, 128)     147584    \n",
      "_________________________________________________________________\n",
      "block2_pool (MaxPooling2D)   (None, 56, 56, 128)       0         \n",
      "_________________________________________________________________\n",
      "block3_conv1 (Conv2D)        (None, 56, 56, 256)       295168    \n",
      "_________________________________________________________________\n",
      "block3_conv2 (Conv2D)        (None, 56, 56, 256)       590080    \n",
      "_________________________________________________________________\n",
      "block3_conv3 (Conv2D)        (None, 56, 56, 256)       590080    \n",
      "_________________________________________________________________\n",
      "block3_pool (MaxPooling2D)   (None, 28, 28, 256)       0         \n",
      "_________________________________________________________________\n",
      "block4_conv1 (Conv2D)        (None, 28, 28, 512)       1180160   \n",
      "_________________________________________________________________\n",
      "block4_conv2 (Conv2D)        (None, 28, 28, 512)       2359808   \n",
      "_________________________________________________________________\n",
      "block4_conv3 (Conv2D)        (None, 28, 28, 512)       2359808   \n",
      "_________________________________________________________________\n",
      "block4_pool (MaxPooling2D)   (None, 14, 14, 512)       0         \n",
      "_________________________________________________________________\n",
      "block5_conv1 (Conv2D)        (None, 14, 14, 512)       2359808   \n",
      "_________________________________________________________________\n",
      "block5_conv2 (Conv2D)        (None, 14, 14, 512)       2359808   \n",
      "_________________________________________________________________\n",
      "block5_conv3 (Conv2D)        (None, 14, 14, 512)       2359808   \n",
      "_________________________________________________________________\n",
      "block5_pool (MaxPooling2D)   (None, 7, 7, 512)         0         \n",
      "_________________________________________________________________\n",
      "flatten (Flatten)            (None, 25088)             0         \n",
      "_________________________________________________________________\n",
      "dense_1 (Dense)              (None, 4096)              102764544 \n",
      "_________________________________________________________________\n",
      "dense_2 (Dense)              (None, 4096)              16781312  \n",
      "_________________________________________________________________\n",
      "dense_3 (Dense)              (None, 1024)              4195328   \n",
      "_________________________________________________________________\n",
      "dense_4 (Dense)              (None, 2)                 2050      \n",
      "=================================================================\n",
      "Total params: 138,457,922\n",
      "Trainable params: 123,743,234\n",
      "Non-trainable params: 14,714,688\n",
      "_________________________________________________________________\n"
     ]
    }
   ],
   "source": [
    "newmodel.summary()"
   ]
  },
  {
   "cell_type": "code",
   "execution_count": 10,
   "metadata": {},
   "outputs": [],
   "source": [
    "from keras.preprocessing import image"
   ]
  },
  {
   "cell_type": "code",
   "execution_count": 11,
   "metadata": {},
   "outputs": [],
   "source": [
    "trdata = image.ImageDataGenerator()\n",
    "tstdata = image.ImageDataGenerator()"
   ]
  },
  {
   "cell_type": "code",
   "execution_count": 12,
   "metadata": {},
   "outputs": [
    {
     "name": "stdout",
     "output_type": "stream",
     "text": [
      "Found 159 images belonging to 2 classes.\n",
      "Found 15 images belonging to 2 classes.\n"
     ]
    }
   ],
   "source": [
    "train_data = trdata.flow_from_directory('C:/Users/KIIT/Desktop/.png_train/', target_size=(img_rows, img_cols))\n",
    "test_data = tstdata.flow_from_directory('C:/Users/KIIT/Desktop/.png_test/', target_size=(img_rows, img_cols))"
   ]
  },
  {
   "cell_type": "code",
   "execution_count": 13,
   "metadata": {},
   "outputs": [
    {
     "data": {
      "text/plain": [
       "{'sap': 0, 'sara': 1}"
      ]
     },
     "execution_count": 13,
     "metadata": {},
     "output_type": "execute_result"
    }
   ],
   "source": [
    "test_data.class_indices"
   ]
  },
  {
   "cell_type": "code",
   "execution_count": 14,
   "metadata": {},
   "outputs": [
    {
     "data": {
      "text/plain": [
       "{'sap': 0, 'sara': 1}"
      ]
     },
     "execution_count": 14,
     "metadata": {},
     "output_type": "execute_result"
    }
   ],
   "source": [
    "train_data.class_indices"
   ]
  },
  {
   "cell_type": "code",
   "execution_count": 15,
   "metadata": {},
   "outputs": [],
   "source": [
    "from keras.callbacks import EarlyStopping, ModelCheckpoint"
   ]
  },
  {
   "cell_type": "code",
   "execution_count": 16,
   "metadata": {},
   "outputs": [],
   "source": [
    "es = EarlyStopping(monitor='val_accuracy',verbose=1, patience=5,restore_best_weights=True )\n",
    "\n",
    "mc = ModelCheckpoint('C:/Users/KIIT/Desktop/murgi/FCmodel123.h5',monitor='val_accuracy',\n",
    "                     verbose=1, save_best_only=True )\n",
    "cb_list = [es, mc]"
   ]
  },
  {
   "cell_type": "code",
   "execution_count": 17,
   "metadata": {},
   "outputs": [],
   "source": [
    "from keras.losses import binary_crossentropy\n",
    "from keras.optimizers import Adam"
   ]
  },
  {
   "cell_type": "code",
   "execution_count": 18,
   "metadata": {},
   "outputs": [],
   "source": [
    "newmodel.compile(loss=binary_crossentropy, optimizer=Adam(), metrics=['accuracy'])"
   ]
  },
  {
   "cell_type": "code",
   "execution_count": 19,
   "metadata": {},
   "outputs": [
    {
     "name": "stdout",
     "output_type": "stream",
     "text": [
      "Epoch 1/10\n",
      "5/5 [==============================] - 53s 11s/step - loss: 60.7475 - accuracy: 0.5597 - val_loss: 1.6593 - val_accuracy: 0.9333\n",
      "\n",
      "Epoch 00001: val_accuracy improved from -inf to 0.93333, saving model to C:/Users/KIIT/Desktop/murgi/FCmodel123.h5\n",
      "Epoch 2/10\n",
      "5/5 [==============================] - 47s 9s/step - loss: 2.9356 - accuracy: 0.8962 - val_loss: 12.0975 - val_accuracy: 0.7000\n",
      "\n",
      "Epoch 00002: val_accuracy did not improve from 0.93333\n",
      "Epoch 3/10\n",
      "5/5 [==============================] - 48s 10s/step - loss: 0.4946 - accuracy: 0.9654 - val_loss: 4.8201 - val_accuracy: 0.9000\n",
      "\n",
      "Epoch 00003: val_accuracy did not improve from 0.93333\n",
      "Epoch 4/10\n",
      "5/5 [==============================] - 48s 10s/step - loss: 1.5478e-05 - accuracy: 1.0000 - val_loss: 0.8412 - val_accuracy: 0.9667\n",
      "\n",
      "Epoch 00004: val_accuracy improved from 0.93333 to 0.96667, saving model to C:/Users/KIIT/Desktop/murgi/FCmodel123.h5\n",
      "Epoch 5/10\n",
      "5/5 [==============================] - 48s 10s/step - loss: 0.0587 - accuracy: 0.9969 - val_loss: 0.1530 - val_accuracy: 0.9667\n",
      "\n",
      "Epoch 00005: val_accuracy did not improve from 0.96667\n",
      "Epoch 6/10\n",
      "5/5 [==============================] - 48s 10s/step - loss: 0.0114 - accuracy: 0.9969 - val_loss: 3.9530 - val_accuracy: 0.9000\n",
      "\n",
      "Epoch 00006: val_accuracy did not improve from 0.96667\n",
      "Epoch 7/10\n",
      "5/5 [==============================] - 48s 10s/step - loss: 1.8443e-32 - accuracy: 1.0000 - val_loss: 10.4937 - val_accuracy: 0.8667\n",
      "\n",
      "Epoch 00007: val_accuracy did not improve from 0.96667\n",
      "Epoch 8/10\n",
      "5/5 [==============================] - 48s 10s/step - loss: 6.8205e-32 - accuracy: 1.0000 - val_loss: 15.4867 - val_accuracy: 0.8667\n",
      "\n",
      "Epoch 00008: val_accuracy did not improve from 0.96667\n",
      "Epoch 9/10\n",
      "5/5 [==============================] - 48s 10s/step - loss: 7.2219e-30 - accuracy: 1.0000 - val_loss: 18.9286 - val_accuracy: 0.8667\n",
      "Restoring model weights from the end of the best epoch\n",
      "\n",
      "Epoch 00009: val_accuracy did not improve from 0.96667\n",
      "Epoch 00009: early stopping\n"
     ]
    }
   ],
   "source": [
    "history = newmodel.fit_generator(generator=train_data,\n",
    "                                epochs=10,\n",
    "                                validation_data=test_data,\n",
    "                                callbacks=cb_list)"
   ]
  },
  {
   "cell_type": "code",
   "execution_count": 20,
   "metadata": {},
   "outputs": [],
   "source": [
    "import pandas as pd"
   ]
  },
  {
   "cell_type": "code",
   "execution_count": 21,
   "metadata": {},
   "outputs": [],
   "source": [
    "df_loss = pd.DataFrame(history.history)"
   ]
  },
  {
   "cell_type": "code",
   "execution_count": 22,
   "metadata": {},
   "outputs": [
    {
     "data": {
      "text/html": [
       "<div>\n",
       "<style scoped>\n",
       "    .dataframe tbody tr th:only-of-type {\n",
       "        vertical-align: middle;\n",
       "    }\n",
       "\n",
       "    .dataframe tbody tr th {\n",
       "        vertical-align: top;\n",
       "    }\n",
       "\n",
       "    .dataframe thead th {\n",
       "        text-align: right;\n",
       "    }\n",
       "</style>\n",
       "<table border=\"1\" class=\"dataframe\">\n",
       "  <thead>\n",
       "    <tr style=\"text-align: right;\">\n",
       "      <th></th>\n",
       "      <th>val_loss</th>\n",
       "      <th>val_accuracy</th>\n",
       "      <th>loss</th>\n",
       "      <th>accuracy</th>\n",
       "    </tr>\n",
       "  </thead>\n",
       "  <tbody>\n",
       "    <tr>\n",
       "      <th>0</th>\n",
       "      <td>1.659319</td>\n",
       "      <td>0.933333</td>\n",
       "      <td>6.022918e+01</td>\n",
       "      <td>0.559748</td>\n",
       "    </tr>\n",
       "    <tr>\n",
       "      <th>1</th>\n",
       "      <td>12.097536</td>\n",
       "      <td>0.700000</td>\n",
       "      <td>2.927613e+00</td>\n",
       "      <td>0.896226</td>\n",
       "    </tr>\n",
       "    <tr>\n",
       "      <th>2</th>\n",
       "      <td>4.820092</td>\n",
       "      <td>0.900000</td>\n",
       "      <td>4.933768e-01</td>\n",
       "      <td>0.965409</td>\n",
       "    </tr>\n",
       "    <tr>\n",
       "      <th>3</th>\n",
       "      <td>0.841229</td>\n",
       "      <td>0.966667</td>\n",
       "      <td>1.555684e-05</td>\n",
       "      <td>1.000000</td>\n",
       "    </tr>\n",
       "    <tr>\n",
       "      <th>4</th>\n",
       "      <td>0.152960</td>\n",
       "      <td>0.966667</td>\n",
       "      <td>5.902181e-02</td>\n",
       "      <td>0.996855</td>\n",
       "    </tr>\n",
       "    <tr>\n",
       "      <th>5</th>\n",
       "      <td>3.953018</td>\n",
       "      <td>0.900000</td>\n",
       "      <td>1.143654e-02</td>\n",
       "      <td>0.996855</td>\n",
       "    </tr>\n",
       "    <tr>\n",
       "      <th>6</th>\n",
       "      <td>10.493670</td>\n",
       "      <td>0.866667</td>\n",
       "      <td>1.850964e-32</td>\n",
       "      <td>1.000000</td>\n",
       "    </tr>\n",
       "    <tr>\n",
       "      <th>7</th>\n",
       "      <td>15.486696</td>\n",
       "      <td>0.866667</td>\n",
       "      <td>6.856202e-32</td>\n",
       "      <td>1.000000</td>\n",
       "    </tr>\n",
       "    <tr>\n",
       "      <th>8</th>\n",
       "      <td>18.928564</td>\n",
       "      <td>0.866667</td>\n",
       "      <td>7.259707e-30</td>\n",
       "      <td>1.000000</td>\n",
       "    </tr>\n",
       "  </tbody>\n",
       "</table>\n",
       "</div>"
      ],
      "text/plain": [
       "    val_loss  val_accuracy          loss  accuracy\n",
       "0   1.659319      0.933333  6.022918e+01  0.559748\n",
       "1  12.097536      0.700000  2.927613e+00  0.896226\n",
       "2   4.820092      0.900000  4.933768e-01  0.965409\n",
       "3   0.841229      0.966667  1.555684e-05  1.000000\n",
       "4   0.152960      0.966667  5.902181e-02  0.996855\n",
       "5   3.953018      0.900000  1.143654e-02  0.996855\n",
       "6  10.493670      0.866667  1.850964e-32  1.000000\n",
       "7  15.486696      0.866667  6.856202e-32  1.000000\n",
       "8  18.928564      0.866667  7.259707e-30  1.000000"
      ]
     },
     "execution_count": 22,
     "metadata": {},
     "output_type": "execute_result"
    }
   ],
   "source": [
    "df_loss"
   ]
  },
  {
   "cell_type": "code",
   "execution_count": 23,
   "metadata": {},
   "outputs": [
    {
     "data": {
      "text/plain": [
       "<matplotlib.axes._subplots.AxesSubplot at 0x2d6027753c8>"
      ]
     },
     "execution_count": 23,
     "metadata": {},
     "output_type": "execute_result"
    },
    {
     "data": {
      "image/png": "[encoded data removed]",
      "text/plain": [
       "<Figure size 432x288 with 1 Axes>"
      ]
     },
     "metadata": {
      "needs_background": "light"
     },
     "output_type": "display_data"
    }
   ],
   "source": [
    "df_loss.plot()"
   ]
  },
  {
   "cell_type": "code",
   "execution_count": null,
   "metadata": {},
   "outputs": [],
   "source": []
  }
 ],
 "metadata": {
  "kernelspec": {
   "display_name": "Python 3",
   "language": "python",
   "name": "python3"
  },
  "language_info": {
   "codemirror_mode": {
    "name": "ipython",
    "version": 3
   },
   "file_extension": ".py",
   "mimetype": "text/x-python",
   "name": "python",
   "nbconvert_exporter": "python",
   "pygments_lexer": "ipython3",
   "version": "3.7.7"
  }
 },
 "nbformat": 4,
 "nbformat_minor": 4
}
